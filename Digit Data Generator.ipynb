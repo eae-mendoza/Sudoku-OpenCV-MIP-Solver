{
 "cells": [
  {
   "cell_type": "code",
   "execution_count": 1,
   "id": "2d7e2f9f",
   "metadata": {},
   "outputs": [],
   "source": [
    "import matplotlib.pyplot as plt\n",
    "import os\n",
    "from random import randint\n",
    "from random import sample\n",
    "import numpy as np\n",
    "import cv2"
   ]
  },
  {
   "cell_type": "code",
   "execution_count": 2,
   "id": "aa33c7e4",
   "metadata": {},
   "outputs": [],
   "source": [
    "data_dir = ['D:\\\\TrainingData\\\\0','D:\\\\TrainingData\\\\1','D:\\\\TrainingData\\\\2','D:\\\\TrainingData\\\\3','D:\\\\TrainingData\\\\4','D:\\\\TrainingData\\\\5','D:\\\\TrainingData\\\\6','D:\\\\TrainingData\\\\7','D:\\\\TrainingData\\\\8','D:\\\\TrainingData\\\\9']"
   ]
  },
  {
   "cell_type": "code",
   "execution_count": 3,
   "id": "6a24579a",
   "metadata": {},
   "outputs": [],
   "source": [
    "data_dir_test = ['D:\\\\TestingData\\\\0','D:\\\\TestingData\\\\1','D:\\\\TestingData\\\\2','D:\\\\TestingData\\\\3','D:\\\\TestingData\\\\4','D:\\\\TestingData\\\\5','D:\\\\TestingData\\\\6','D:\\\\TestingData\\\\7','D:\\\\TestingData\\\\8','D:\\\\TestingData\\\\9']"
   ]
  },
  {
   "cell_type": "code",
   "execution_count": 6,
   "id": "928da7c7",
   "metadata": {},
   "outputs": [],
   "source": [
    "data_dir_proc_train = ['D:\\\\ProcessedTrainingData\\\\0','D:\\\\ProcessedTrainingData\\\\1','D:\\\\ProcessedTrainingData\\\\2','D:\\\\ProcessedTrainingData\\\\3','D:\\\\ProcessedTrainingData\\\\4','D:\\\\ProcessedTrainingData\\\\5','D:\\\\ProcessedTrainingData\\\\6','D:\\\\ProcessedTrainingData\\\\7','D:\\\\ProcessedTrainingData\\\\8','D:\\\\ProcessedTrainingData\\\\9']"
   ]
  },
  {
   "cell_type": "code",
   "execution_count": 128,
   "id": "b78327ba",
   "metadata": {},
   "outputs": [],
   "source": [
    "data_dir_proc_test = ['D:\\\\ProcessedTestingData\\\\0','D:\\\\ProcessedTestingData\\\\1','D:\\\\ProcessedTestingData\\\\2','D:\\\\ProcessedTestingData\\\\3','D:\\\\ProcessedTestingData\\\\4','D:\\\\ProcessedTestingData\\\\5','D:\\\\ProcessedTestingData\\\\6','D:\\\\ProcessedTestingData\\\\7','D:\\\\ProcessedTestingData\\\\8','D:\\\\ProcessedTestingData\\\\9']"
   ]
  },
  {
   "cell_type": "code",
   "execution_count": 5,
   "id": "457e6fcf",
   "metadata": {},
   "outputs": [],
   "source": [
    "fonts = ['serif', 'sans-serif', 'fantasy', 'monospace']"
   ]
  },
  {
   "cell_type": "code",
   "execution_count": 5,
   "id": "594bd870",
   "metadata": {
    "scrolled": false
   },
   "outputs": [
    {
     "data": {
      "text/plain": [
       "<Figure size 432x288 with 0 Axes>"
      ]
     },
     "metadata": {},
     "output_type": "display_data"
    }
   ],
   "source": [
    "i = 0\n",
    "while i < 60000:\n",
    "    font = randint(0,len(fonts)-1)\n",
    "    digit = randint(0,9)\n",
    "    fig = plt.figure(figsize=(4.5,4.5))\n",
    "    plt.axis('off')\n",
    "    plt.text(0.25,0.2,str(digit),fontsize=200,fontfamily=fonts[font])\n",
    "    plt.savefig(os.path.join(data_dir[digit],f'{str(digit)}_{i}.jpg'))\n",
    "    plt.close()\n",
    "    del fig\n",
    "    i+=1"
   ]
  },
  {
   "cell_type": "code",
   "execution_count": 126,
   "id": "f3cd89c1",
   "metadata": {},
   "outputs": [],
   "source": [
    "def add_noise():\n",
    "    pix = 28\n",
    "    arr = np.zeros(pix**2,dtype='int32')\n",
    "    proportion = np.random.uniform(0,0.05)\n",
    "    num = int(np.floor(pix**2*proportion))\n",
    "    rands = list(set(sample(range(0,pix**2),num)))\n",
    "    arr[rands] = 255\n",
    "    arr = arr.reshape(pix,pix)\n",
    "    return arr"
   ]
  },
  {
   "cell_type": "code",
   "execution_count": null,
   "id": "708debd7",
   "metadata": {},
   "outputs": [],
   "source": [
    "for i in os.listdir('D:\\\\TrainingData'):\n",
    "    for j in os.listdir(os.path.join('D:\\\\TrainingData',i)):\n",
    "        print(j)\n",
    "        path = os.path.join(os.path.join('D:\\\\TrainingData',i),j)\n",
    "        img = cv2.resize(cv2.imread(path,cv2.IMREAD_GRAYSCALE),(28,28))\n",
    "        proc = cv2.GaussianBlur(img.copy(), (3, 3), 0)\n",
    "        proc = cv2.adaptiveThreshold(proc, 255, cv2.ADAPTIVE_THRESH_GAUSSIAN_C, cv2.THRESH_BINARY, 11, 2)\n",
    "        proc = cv2.bitwise_not(proc, proc)\n",
    "        proc = np.array(proc+add_noise(),dtype='uint8')\n",
    "        filename = os.path.join(data_dir_proc_train[int(i)],j) \n",
    "        cv2.imwrite(filename, proc)\n",
    "        print(i)"
   ]
  },
  {
   "cell_type": "code",
   "execution_count": 129,
   "id": "137f1806",
   "metadata": {},
   "outputs": [],
   "source": [
    "i = 0\n",
    "while i < 10000:\n",
    "    font = randint(0,len(fonts)-1)\n",
    "    digit = randint(0,9)\n",
    "    fig = plt.figure(figsize=(4.5,4.5))\n",
    "    plt.axis('off')\n",
    "    plt.text(0.25,0.2,str(digit),fontsize=200,fontfamily=fonts[font])\n",
    "    plt.savefig(os.path.join(data_dir_test[digit],f'{str(digit)}_{i}.jpg'))\n",
    "    plt.close()\n",
    "    del fig\n",
    "    i+=1"
   ]
  },
  {
   "cell_type": "code",
   "execution_count": null,
   "id": "26424945",
   "metadata": {},
   "outputs": [],
   "source": [
    "for i in os.listdir('D:\\\\TestingData'):\n",
    "    for j in os.listdir(os.path.join('D:\\\\TestingData',i)):\n",
    "        print(j)\n",
    "        path = os.path.join(os.path.join('D:\\\\TestingData',i),j)\n",
    "        img = cv2.resize(cv2.imread(path,cv2.IMREAD_GRAYSCALE),(28,28))\n",
    "        proc = cv2.GaussianBlur(img.copy(), (3, 3), 0)\n",
    "        proc = cv2.adaptiveThreshold(proc, 255, cv2.ADAPTIVE_THRESH_GAUSSIAN_C, cv2.THRESH_BINARY, 11, 2)\n",
    "        proc = cv2.bitwise_not(proc, proc)\n",
    "        proc = np.array(proc+add_noise(),dtype='uint8')\n",
    "        filename = os.path.join(data_dir_proc_test[int(i)],j) \n",
    "        cv2.imwrite(filename, proc)\n",
    "        print(i)"
   ]
  },
  {
   "cell_type": "code",
   "execution_count": null,
   "id": "925ed6c7",
   "metadata": {},
   "outputs": [],
   "source": []
  }
 ],
 "metadata": {
  "kernelspec": {
   "display_name": "Python 3",
   "language": "python",
   "name": "python3"
  },
  "language_info": {
   "codemirror_mode": {
    "name": "ipython",
    "version": 3
   },
   "file_extension": ".py",
   "mimetype": "text/x-python",
   "name": "python",
   "nbconvert_exporter": "python",
   "pygments_lexer": "ipython3",
   "version": "3.8.8"
  }
 },
 "nbformat": 4,
 "nbformat_minor": 5
}
