{
 "cells": [
  {
   "cell_type": "code",
   "execution_count": 1,
   "id": "8bab5da0",
   "metadata": {},
   "outputs": [],
   "source": [
    "from pulp import*\n",
    "import pandas as pd\n",
    "import numpy as np\n",
    "from SudokuBase import *"
   ]
  },
  {
   "cell_type": "code",
   "execution_count": 2,
   "id": "d7a65ef7",
   "metadata": {},
   "outputs": [
    {
     "name": "stdout",
     "output_type": "stream",
     "text": [
      "sudoku_puzzle.txt\n"
     ]
    }
   ],
   "source": [
    "filename = input()"
   ]
  },
  {
   "cell_type": "code",
   "execution_count": 3,
   "id": "1336118d",
   "metadata": {},
   "outputs": [],
   "source": [
    "puzzle = np.array(pd.read_csv(filename,header=None))"
   ]
  },
  {
   "cell_type": "code",
   "execution_count": 4,
   "id": "2ea8370f",
   "metadata": {},
   "outputs": [
    {
     "data": {
      "text/plain": [
       "array([[5, 3, 0, 0, 7, 0, 0, 0, 0],\n",
       "       [6, 0, 0, 1, 9, 5, 0, 0, 0],\n",
       "       [0, 9, 8, 0, 0, 0, 0, 6, 0],\n",
       "       [8, 0, 0, 0, 6, 0, 0, 0, 3],\n",
       "       [4, 0, 0, 8, 0, 3, 0, 0, 1],\n",
       "       [7, 0, 0, 0, 2, 0, 0, 0, 6],\n",
       "       [0, 6, 0, 0, 0, 0, 2, 8, 0],\n",
       "       [0, 0, 0, 4, 1, 9, 0, 0, 5],\n",
       "       [0, 0, 0, 0, 8, 0, 0, 7, 9]], dtype=int64)"
      ]
     },
     "execution_count": 4,
     "metadata": {},
     "output_type": "execute_result"
    }
   ],
   "source": [
    "puzzle"
   ]
  },
  {
   "cell_type": "code",
   "execution_count": 5,
   "id": "b01d9d2e",
   "metadata": {},
   "outputs": [],
   "source": [
    "ii = 0\n",
    "for i in puzzle:\n",
    "    jj = 0\n",
    "    for j in i:\n",
    "        if j !=0:\n",
    "            prob += possible_vals[ii][jj] == j,\"\"\n",
    "        jj+=1\n",
    "    ii+=1"
   ]
  },
  {
   "cell_type": "code",
   "execution_count": 6,
   "id": "f799fb3b",
   "metadata": {},
   "outputs": [
    {
     "data": {
      "text/plain": [
       "1"
      ]
     },
     "execution_count": 6,
     "metadata": {},
     "output_type": "execute_result"
    }
   ],
   "source": [
    "prob.solve()"
   ]
  },
  {
   "cell_type": "code",
   "execution_count": 40,
   "id": "261cb095",
   "metadata": {},
   "outputs": [],
   "source": [
    "output_solution()"
   ]
  },
  {
   "cell_type": "code",
   "execution_count": null,
   "id": "08c51d3d",
   "metadata": {},
   "outputs": [],
   "source": []
  }
 ],
 "metadata": {
  "kernelspec": {
   "display_name": "Python 3",
   "language": "python",
   "name": "python3"
  },
  "language_info": {
   "codemirror_mode": {
    "name": "ipython",
    "version": 3
   },
   "file_extension": ".py",
   "mimetype": "text/x-python",
   "name": "python",
   "nbconvert_exporter": "python",
   "pygments_lexer": "ipython3",
   "version": "3.8.8"
  }
 },
 "nbformat": 4,
 "nbformat_minor": 5
}
